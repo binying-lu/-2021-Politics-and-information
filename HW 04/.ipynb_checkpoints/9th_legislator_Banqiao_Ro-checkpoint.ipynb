{
 "cells": [
  {
   "cell_type": "code",
   "execution_count": 6,
   "metadata": {},
   "outputs": [],
   "source": [
    "import pandas as pd\n",
    "fb = pd.read_csv('nysu_10902_2019_research_right.csv')\n",
    "politics = pd.read_csv('9th_legislator_promise.csv')"
   ]
  },
  {
   "cell_type": "code",
   "execution_count": 7,
   "metadata": {},
   "outputs": [
    {
     "data": {
      "text/html": [
       "<div>\n",
       "<style scoped>\n",
       "    .dataframe tbody tr th:only-of-type {\n",
       "        vertical-align: middle;\n",
       "    }\n",
       "\n",
       "    .dataframe tbody tr th {\n",
       "        vertical-align: top;\n",
       "    }\n",
       "\n",
       "    .dataframe thead th {\n",
       "        text-align: right;\n",
       "    }\n",
       "</style>\n",
       "<table border=\"1\" class=\"dataframe\">\n",
       "  <thead>\n",
       "    <tr style=\"text-align: right;\">\n",
       "      <th></th>\n",
       "      <th>post_id</th>\n",
       "      <th>page_id</th>\n",
       "      <th>page_name</th>\n",
       "      <th>page_category</th>\n",
       "      <th>message</th>\n",
       "      <th>story</th>\n",
       "      <th>type</th>\n",
       "      <th>permalink</th>\n",
       "      <th>created_time_gmt</th>\n",
       "      <th>created_time_taipei</th>\n",
       "      <th>...</th>\n",
       "      <th>link_name</th>\n",
       "      <th>link_description</th>\n",
       "      <th>like_count</th>\n",
       "      <th>haha_count</th>\n",
       "      <th>love_count</th>\n",
       "      <th>angry_count</th>\n",
       "      <th>sad_count</th>\n",
       "      <th>wow_count</th>\n",
       "      <th>comment_count</th>\n",
       "      <th>share_count</th>\n",
       "    </tr>\n",
       "  </thead>\n",
       "  <tbody>\n",
       "    <tr>\n",
       "      <th>0</th>\n",
       "      <td>244784245612709_2052039854887130</td>\n",
       "      <td>244784245612709</td>\n",
       "      <td>陳學聖</td>\n",
       "      <td>政治人物</td>\n",
       "      <td>鑒於中油觀塘案在環評大會迅速通關，原先專案小組考量對藻礁生態有重大影響，建議退回目的事業主管...</td>\n",
       "      <td>NaN</td>\n",
       "      <td>photo</td>\n",
       "      <td>https://www.facebook.com/244784245612709/posts...</td>\n",
       "      <td>2019-01-15T11:00:16+0000</td>\n",
       "      <td>2019-01-15T19:00:16</td>\n",
       "      <td>...</td>\n",
       "      <td>NaN</td>\n",
       "      <td>NaN</td>\n",
       "      <td>144</td>\n",
       "      <td>0</td>\n",
       "      <td>0</td>\n",
       "      <td>0</td>\n",
       "      <td>0</td>\n",
       "      <td>0</td>\n",
       "      <td>6</td>\n",
       "      <td>5</td>\n",
       "    </tr>\n",
       "  </tbody>\n",
       "</table>\n",
       "<p>1 rows × 21 columns</p>\n",
       "</div>"
      ],
      "text/plain": [
       "                            post_id          page_id page_name page_category  \\\n",
       "0  244784245612709_2052039854887130  244784245612709       陳學聖          政治人物   \n",
       "\n",
       "                                             message story   type  \\\n",
       "0  鑒於中油觀塘案在環評大會迅速通關，原先專案小組考量對藻礁生態有重大影響，建議退回目的事業主管...   NaN  photo   \n",
       "\n",
       "                                           permalink  \\\n",
       "0  https://www.facebook.com/244784245612709/posts...   \n",
       "\n",
       "           created_time_gmt  created_time_taipei  ... link_name  \\\n",
       "0  2019-01-15T11:00:16+0000  2019-01-15T19:00:16  ...       NaN   \n",
       "\n",
       "  link_description like_count  haha_count  love_count  angry_count  sad_count  \\\n",
       "0              NaN        144           0           0            0          0   \n",
       "\n",
       "   wow_count  comment_count  share_count  \n",
       "0          0              6            5  \n",
       "\n",
       "[1 rows x 21 columns]"
      ]
     },
     "execution_count": 7,
     "metadata": {},
     "output_type": "execute_result"
    }
   ],
   "source": [
    "fb.head(1)"
   ]
  },
  {
   "cell_type": "code",
   "execution_count": 9,
   "metadata": {},
   "outputs": [],
   "source": [
    "lo=fb[fb.page_name==\"羅致政粉絲團\"]"
   ]
  }
 ],
 "metadata": {
  "kernelspec": {
   "display_name": "Python 3",
   "language": "python",
   "name": "python3"
  },
  "language_info": {
   "codemirror_mode": {
    "name": "ipython",
    "version": 3
   },
   "file_extension": ".py",
   "mimetype": "text/x-python",
   "name": "python",
   "nbconvert_exporter": "python",
   "pygments_lexer": "ipython3",
   "version": "3.8.5"
  }
 },
 "nbformat": 4,
 "nbformat_minor": 4
}
