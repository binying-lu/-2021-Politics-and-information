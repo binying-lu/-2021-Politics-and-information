{
 "cells": [
  {
   "cell_type": "markdown",
   "metadata": {},
   "source": [
    "## Mallet-TM : \n",
    "### Extract Topic Model with LdaMallet from KCC News and CIS test data"
   ]
  },
  {
   "cell_type": "code",
   "execution_count": 1,
   "metadata": {},
   "outputs": [],
   "source": [
    "# -*- coding: utf-8 -*-\n",
    "\"\"\"\n",
    "Input: \"KCC Data/CkipNewsCisTest-KccDict2020.txt\"\n",
    "Output: \"KCC Data/NewsCisTest-KccDict2020-MalletNum10.txt\"\n",
    "\n",
    "@author: johnson\n",
    "\"\"\"\n",
    "# When numpy version = 1.19.2 => gensim version should downgrade to 3.8.3\n",
    "from gensim import corpora, models, utils\n",
    "from gensim.models import LdaModel\n",
    "from gensim.models import CoherenceModel"
   ]
  },
  {
   "cell_type": "markdown",
   "metadata": {},
   "source": [
    "### read data from txt file, and tokenize words, clean-up text"
   ]
  },
  {
   "cell_type": "code",
   "execution_count": 2,
   "metadata": {},
   "outputs": [
    {
     "name": "stdout",
     "output_type": "stream",
     "text": [
      "fList[:1] =  [['馬英九', '昨天', '上午', '視察', '衛武營藝術文化中心', '文化部', '洪孟啟', '工程', '副主委', '顏久榮', '高雄市', '副市長', '吳宏謀', '一同', '到場', '聽取', '衛武營', '興建', '工程', '簡報', '瞭解', '工程進度', '執行', '情形', '完成', '百分之九十五', '工程進度', '共計', '投入', '新臺幣', '一百零五億八千萬', '經費', '預計', '六月', '竣工', '明年', '開館', '營運', '目標', '馬英九', '指出', '衛武營', '案子', '九十四年', '編列', '預算', '核定', '施工', '正式', '完工', '時間', '長達', '十三', '原先', '預計', '故宮', '南院', '工程', '單位', '部門', '克服', '困難', '值得', '檢討', '總統', '致詞', '民國', '九十九年', '主持', '動土', '典禮', '原從', '黃土', '生長出', '有如', '魟魚', '悠遊', '海浪', '建築', '實在', '驚豔', '過程', '包含', '團隊', '付出', '努力', '籌建', '過程', '艱辛', '各界', '關注', '投入', '新建', '工程', '幾近', '完工', '特別', '肯定', '文化部', '籌建', '過程', '付出', '辛勞', '高雄市政府', '各界', '支持', '配合', '總統', '文化', '城市', '期許', '衛武營藝術文化中心', '臺灣', '藝術', '力量', '南方', '集結地', '臺北', '國家兩廳院', '臺中', '國家歌劇院', '攜手', '並進', '打造', '台灣', '國際', '藝文', '版圖', '地標', '文化部', '洪孟啟', '衛武營', '考驗', '面臨', '營運', '壓力', '文化部', '衛武營', '南部', '高雄市文化中心', '嘉義', '文化', '園區', '故宮', '南院', '台南', '地方', '藝文', '團體', '高雄大東文化藝術中心', '屏東', '演藝廳', '結合成', '文化', '廊帶', '衛武營', '國際', '接軌', '文化部', '邀請', '台灣', '旅德', '指揮家', '簡文彬', '擔任', '衛武', '國家', '藝術', '高雄市文化中心', '藝術', '總監', '接洽', '國外', '藝文', '團隊', '國際', '表演', '節目', '第一', '高雄', '演出', '衛武營', '台灣', '文化', '指標', '場館']]\n",
      "------------------------------\n"
     ]
    }
   ],
   "source": [
    "fList = []\n",
    "with open(\"KCC Data/CkipNewsCisTest-KccDict2020.txt\",\"r\", encoding='utf-8-sig') as files:\n",
    "     for file in files:\n",
    "        #simple_preprocess: tokenize,去除標點 - gensim.utils.simple_preprocess(doc, deacc=False, min_len=2, max_len=15)\n",
    "        fList.append(list(utils.simple_preprocess(file, deacc=True, min_len=2,)))\n",
    "print(\"fList[:1] = \", fList[:1])\n",
    "print(\"------------------------------\")"
   ]
  },
  {
   "cell_type": "markdown",
   "metadata": {},
   "source": [
    "### creat dictionary for corpus"
   ]
  },
  {
   "cell_type": "code",
   "execution_count": 3,
   "metadata": {},
   "outputs": [
    {
     "name": "stdout",
     "output_type": "stream",
     "text": [
      "dict =  Dictionary(8996 unique tokens: ['一同', '一百零五億八千萬', '上午', '並進', '主持']...)\n",
      "------------------------------\n"
     ]
    }
   ],
   "source": [
    "# creat a unique id for each word segment\n",
    "dict = corpora.Dictionary(list(fList))\n",
    "print(\"dict = \", dict)\n",
    "print(\"------------------------------\")"
   ]
  },
  {
   "cell_type": "markdown",
   "metadata": {},
   "source": [
    "### creat corpus need for Topic Modeling"
   ]
  },
  {
   "cell_type": "code",
   "execution_count": 4,
   "metadata": {},
   "outputs": [
    {
     "name": "stdout",
     "output_type": "stream",
     "text": [
      "corpus[:1] =  [[(0, 1), (1, 1), (2, 1), (3, 1), (4, 1), (5, 1), (6, 1), (7, 2), (8, 1), (9, 1), (10, 1), (11, 1), (12, 1), (13, 1), (14, 1), (15, 1), (16, 1), (17, 1), (18, 1), (19, 1), (20, 1), (21, 1), (22, 1), (23, 2), (24, 1), (25, 1), (26, 1), (27, 3), (28, 2), (29, 1), (30, 1), (31, 1), (32, 1), (33, 1), (34, 1), (35, 1), (36, 1), (37, 3), (38, 1), (39, 2), (40, 1), (41, 1), (42, 1), (43, 1), (44, 1), (45, 1), (46, 1), (47, 2), (48, 1), (49, 1), (50, 1), (51, 4), (52, 2), (53, 1), (54, 1), (55, 1), (56, 1), (57, 1), (58, 1), (59, 2), (60, 1), (61, 1), (62, 1), (63, 1), (64, 1), (65, 1), (66, 1), (67, 1), (68, 2), (69, 4), (70, 5), (71, 1), (72, 1), (73, 1), (74, 1), (75, 1), (76, 1), (77, 1), (78, 1), (79, 1), (80, 1), (81, 1), (82, 1), (83, 1), (84, 1), (85, 2), (86, 1), (87, 1), (88, 1), (89, 2), (90, 1), (91, 1), (92, 1), (93, 1), (94, 1), (95, 1), (96, 1), (97, 1), (98, 1), (99, 1), (100, 1), (101, 2), (102, 1), (103, 1), (104, 1), (105, 1), (106, 2), (107, 1), (108, 1), (109, 1), (110, 1), (111, 1), (112, 1), (113, 1), (114, 1), (115, 1), (116, 3), (117, 3), (118, 1), (119, 6), (120, 2), (121, 1), (122, 1), (123, 1), (124, 3), (125, 1), (126, 1), (127, 1), (128, 1), (129, 1), (130, 1), (131, 1), (132, 1), (133, 1), (134, 2), (135, 1), (136, 2), (137, 1), (138, 1), (139, 1), (140, 1), (141, 1), (142, 2), (143, 1), (144, 1)]]\n",
      "================================================\n",
      "print lists of [word:frequency]\n",
      "('一同', 1)\n",
      "('一百零五億八千萬', 1)\n",
      "('上午', 1)\n",
      "('並進', 1)\n",
      "('主持', 1)\n",
      "('九十九年', 1)\n",
      "('九十四年', 1)\n",
      "('付出', 2)\n",
      "('值得', 1)\n",
      "('克服', 1)\n",
      "('六月', 1)\n",
      "('共計', 1)\n",
      "('典禮', 1)\n",
      "('到場', 1)\n",
      "('副主委', 1)\n",
      "('副市長', 1)\n",
      "('力量', 1)\n",
      "('努力', 1)\n",
      "('動土', 1)\n",
      "('包含', 1)\n",
      "('十三', 1)\n",
      "('南方', 1)\n",
      "('南部', 1)\n",
      "('南院', 2)\n",
      "('原先', 1)\n",
      "('原從', 1)\n",
      "('台南', 1)\n",
      "('台灣', 3)\n",
      "('各界', 2)\n",
      "('吳宏謀', 1)\n",
      "('單位', 1)\n",
      "('嘉義', 1)\n",
      "('困難', 1)\n",
      "('國外', 1)\n",
      "('國家', 1)\n",
      "('國家兩廳院', 1)\n",
      "('國家歌劇院', 1)\n",
      "('國際', 3)\n",
      "('園區', 1)\n",
      "('團隊', 2)\n",
      "('團體', 1)\n",
      "('地方', 1)\n",
      "('地標', 1)\n",
      "('城市', 1)\n",
      "('執行', 1)\n",
      "('場館', 1)\n",
      "('壓力', 1)\n",
      "('完工', 2)\n",
      "('完成', 1)\n",
      "('實在', 1)\n",
      "('屏東', 1)\n",
      "('工程', 4)\n",
      "('工程進度', 2)\n",
      "('幾近', 1)\n",
      "('廊帶', 1)\n",
      "('建築', 1)\n",
      "('悠遊', 1)\n",
      "('情形', 1)\n",
      "('打造', 1)\n",
      "('投入', 2)\n",
      "('指出', 1)\n",
      "('指揮家', 1)\n",
      "('指標', 1)\n",
      "('接洽', 1)\n",
      "('接軌', 1)\n",
      "('擔任', 1)\n",
      "('攜手', 1)\n",
      "('支持', 1)\n",
      "('故宮', 2)\n",
      "('文化', 4)\n",
      "('文化部', 5)\n",
      "('新建', 1)\n",
      "('新臺幣', 1)\n",
      "('施工', 1)\n",
      "('旅德', 1)\n",
      "('明年', 1)\n",
      "('昨天', 1)\n",
      "('時間', 1)\n",
      "('有如', 1)\n",
      "('期許', 1)\n",
      "('核定', 1)\n",
      "('案子', 1)\n",
      "('檢討', 1)\n",
      "('正式', 1)\n",
      "('民國', 1)\n",
      "('洪孟啟', 2)\n",
      "('海浪', 1)\n",
      "('演出', 1)\n",
      "('演藝廳', 1)\n",
      "('營運', 2)\n",
      "('版圖', 1)\n",
      "('特別', 1)\n",
      "('生長出', 1)\n",
      "('百分之九十五', 1)\n",
      "('目標', 1)\n",
      "('瞭解', 1)\n",
      "('竣工', 1)\n",
      "('第一', 1)\n",
      "('節目', 1)\n",
      "('簡報', 1)\n",
      "('簡文彬', 1)\n",
      "('籌建', 2)\n",
      "('結合成', 1)\n",
      "('經費', 1)\n",
      "('編列', 1)\n",
      "('總監', 1)\n",
      "('總統', 2)\n",
      "('考驗', 1)\n",
      "('聽取', 1)\n",
      "('肯定', 1)\n",
      "('致詞', 1)\n",
      "('臺中', 1)\n",
      "('臺北', 1)\n",
      "('臺灣', 1)\n",
      "('興建', 1)\n",
      "('艱辛', 1)\n",
      "('藝文', 3)\n",
      "('藝術', 3)\n",
      "('衛武', 1)\n",
      "('衛武營', 6)\n",
      "('衛武營藝術文化中心', 2)\n",
      "('表演', 1)\n",
      "('視察', 1)\n",
      "('辛勞', 1)\n",
      "('過程', 3)\n",
      "('邀請', 1)\n",
      "('部門', 1)\n",
      "('配合', 1)\n",
      "('長達', 1)\n",
      "('開館', 1)\n",
      "('關注', 1)\n",
      "('集結地', 1)\n",
      "('面臨', 1)\n",
      "('預算', 1)\n",
      "('預計', 2)\n",
      "('顏久榮', 1)\n",
      "('馬英九', 2)\n",
      "('驚豔', 1)\n",
      "('高雄', 1)\n",
      "('高雄大東文化藝術中心', 1)\n",
      "('高雄市', 1)\n",
      "('高雄市政府', 1)\n",
      "('高雄市文化中心', 2)\n",
      "('魟魚', 1)\n",
      "('黃土', 1)\n",
      "======================================================\n"
     ]
    }
   ],
   "source": [
    "# creat mapping matrix of [word_id, word_frequency] for each word segment\n",
    "corpus = [dict.doc2bow(text) for text in fList]   \n",
    "print(\"corpus[:1] = \", corpus[:1])  \n",
    "print(\"================================================\")\n",
    "\n",
    "print(\"print lists of [word:frequency]\")\n",
    "[[print((dict[id], freq)) for id,freq in cp] for cp in corpus[:1]]\n",
    "print(\"======================================================\")"
   ]
  },
  {
   "cell_type": "markdown",
   "metadata": {},
   "source": [
    "### building the Topic Model from MALLET\n",
    "#### enviroment setting for Mallet LDA: https://programminghistorian.org/en/lessons/topic-modeling-and-mallet#installing-mallet"
   ]
  },
  {
   "cell_type": "code",
   "execution_count": 5,
   "metadata": {},
   "outputs": [
    {
     "name": "stdout",
     "output_type": "stream",
     "text": [
      "strTM =  0[('高雄市', 0.03470857891290111), ('台灣', 0.023248199083169614), ('陳菊', 0.022920759659463), ('市長', 0.014079895219384414), ('吳宏謀', 0.010478061558611657), ('熊本', 0.010478061558611657), ('市府', 0.008840864440078585), ('透過', 0.008840864440078585), ('擔任', 0.008840864440078585), ('日本', 0.008840864440078585), ('副市長', 0.008185985592665358), ('支持', 0.008185985592665358), ('主委', 0.007531106745252128), ('出席', 0.007203667321545514), ('特別', 0.007203667321545514), ('昨天', 0.0068762278978389), ('持續', 0.0068762278978389), ('發展', 0.0068762278978389), ('代表', 0.006548788474132285), ('林全', 0.006221349050425672)]\n",
      "\n",
      "strTM =  1[('總統', 0.03709476309226933), ('特赦', 0.033042394014962596), ('陳水扁', 0.031795511221945134), ('民主進步黨', 0.024002493765586035), ('陳菊', 0.01963840399002494), ('立委', 0.016521197007481298), ('昨天', 0.014027431421446385), ('馬英九', 0.01371571072319202), ('前總統', 0.012780548628428928), ('政府', 0.012468827930174564), ('提案', 0.010910224438902744), ('柯文哲', 0.010910224438902744), ('政治', 0.010286783042394014), ('媒體', 0.010286783042394014), ('台北', 0.00903990024937656), ('黨團', 0.00903990024937656), ('當選人', 0.008728179551122194), ('蔡英文', 0.007793017456359103), ('健康', 0.007793017456359103), ('卸任', 0.007481296758104738)]\n",
      "\n",
      "strTM =  2[('活動', 0.040727027936721644), ('社區', 0.01144395826321104), ('四月', 0.010434197239986537), ('動物', 0.010097610232245036), ('舉辦', 0.009424436216762033), ('參加', 0.009424436216762033), ('民眾', 0.008751262201279031), ('企業', 0.008751262201279031), ('鼓勵', 0.007741501178054527), ('團體', 0.007741501178054527), ('六龜大佛', 0.007404914170313026), ('醫療', 0.007068327162571525), ('加入', 0.007068327162571525), ('藝術', 0.0063951531470885226), ('兒童', 0.006058566139347021), ('一同', 0.005385392123864019), ('觀光', 0.005385392123864019), ('觀光局', 0.005385392123864019), ('十二', 0.005385392123864019), ('參與', 0.005048805116122518)]\n",
      "\n",
      "strTM =  3[('高雄', 0.046414757512645045), ('陳菊', 0.018744421303183576), ('高雄市', 0.018744421303183576), ('教育', 0.01487652484379649), ('城市', 0.01487652484379649), ('體驗', 0.0139839333531687), ('文化', 0.01368640285629277), ('台灣', 0.010413567390657543), ('交流', 0.010116036893781613), ('團隊', 0.009223445403153823), ('昨天', 0.008628384409401963), ('日本', 0.008330853912526033), ('發展', 0.007735792918774174), ('機會', 0.007735792918774174), ('更多', 0.006843201428146385), ('長野縣', 0.006545670931270455), ('合作', 0.006545670931270455), ('美國', 0.006545670931270455), ('單位', 0.005950609937518596), ('農業', 0.005950609937518596)]\n",
      "\n",
      "strTM =  4[('高中', 0.023180007243752264), ('昨天', 0.018833755885548715), ('工程', 0.017385005432814196), ('目前', 0.013038754074610649), ('國中', 0.013038754074610649), ('第一', 0.01195219123505976), ('比賽', 0.010141253169141615), ('高市', 0.009779065555957986), ('高雄輕軌', 0.008692502716407098), ('學生', 0.008692502716407098), ('埔里', 0.00833031510322347), ('業者', 0.00796812749003984), ('上午', 0.007605939876856212), ('下午', 0.007243752263672582), ('興建', 0.006157189424121695), ('隊伍', 0.006157189424121695), ('南崁', 0.005795001810938066), ('五福', 0.005795001810938066), ('主辦', 0.0050706265845708075), ('高雄市政府捷運工程局', 0.0050706265845708075)]\n",
      "\n",
      "strTM =  5[('市府', 0.025960890087660147), ('工作', 0.01449763991908294), ('指出', 0.010114632501685773), ('高雄市政府', 0.010114632501685773), ('水利局', 0.009777478084962913), ('去年', 0.009440323668240054), ('環境', 0.009440323668240054), ('方式', 0.008428860418071477), ('民眾', 0.008428860418071477), ('人員', 0.008428860418071477), ('登革熱', 0.008428860418071477), ('資料', 0.0077545515846257585), ('使用費', 0.0070802427511800405), ('污水', 0.0070802427511800405), ('高雄市政府環境保護局', 0.006743088334457181), ('市民', 0.006743088334457181), ('防治', 0.0064059339177343225), ('日月光', 0.0064059339177343225), ('市政府', 0.0064059339177343225), ('費用', 0.006068779501011463)]\n",
      "\n",
      "strTM =  6[('民眾', 0.022641509433962263), ('交通', 0.01741654571843251), ('措施', 0.013352685050798258), ('地區', 0.013062409288824383), ('管制', 0.011030478955007257), ('機車', 0.009869375907111757), ('改善', 0.009579100145137881), ('相關', 0.009579100145137881), ('遊客', 0.00841799709724238), ('實施', 0.008127721335268505), ('期間', 0.008127721335268505), ('公車', 0.008127721335268505), ('哈瑪星', 0.00783744557329463), ('配合', 0.007547169811320755), ('交通局', 0.007547169811320755), ('提供', 0.00725689404934688), ('居民', 0.006966618287373005), ('搭乘', 0.006966618287373005), ('免費', 0.006966618287373005), ('捷運', 0.0055152394775036286)]\n",
      "\n",
      "strTM =  7[('市府', 0.024735776928266246), ('高雄市', 0.021137845738700246), ('遷村', 0.020463233640656622), ('中央', 0.018664268045873622), ('土地', 0.013267371261524623), ('高雄', 0.013042500562176748), ('補助', 0.011918147065437373), ('辦理', 0.010568922869350123), ('計畫', 0.010568922869350123), ('完成', 0.01034405217000225), ('開發', 0.0098943107713065), ('地方', 0.009669440071958624), ('政府', 0.009219698673262874), ('經費', 0.00854508657521925), ('居民', 0.007870474477175624), ('建設', 0.007645603777827749), ('溝通', 0.006970991679784124), ('相關', 0.006521250281088374), ('大林蒲', 0.006521250281088374), ('單位', 0.006296379581740499)]\n",
      "\n",
      "strTM =  8[('議員', 0.03183203521842194), ('議會', 0.02505926176769387), ('高雄市議會', 0.02505926176769387), ('市民', 0.015577378936674569), ('康裕成', 0.012190992211310531), ('指出', 0.009481882831019302), ('地方', 0.009143244158482899), ('提出', 0.008127328140873687), ('包括', 0.007450050795800881), ('謝長廷', 0.007111412123264477), ('改革', 0.006772773450728073), ('舞台', 0.0060954961056552655), ('昨天', 0.0060954961056552655), ('基金', 0.0060954961056552655), ('事件', 0.0060954961056552655), ('參考', 0.005756857433118863), ('軌道', 0.005756857433118863), ('檢討', 0.005756857433118863), ('沈英章', 0.005756857433118863), ('去年', 0.005756857433118863)]\n",
      "\n",
      "strTM =  9[('產業', 0.028253968253968254), ('服務', 0.02), ('國際', 0.01619047619047619), ('里長', 0.015555555555555555), ('申請', 0.015238095238095238), ('社會', 0.011111111111111112), ('公司', 0.009523809523809525), ('世界', 0.008888888888888889), ('專業', 0.008888888888888889), ('提升', 0.007936507936507936), ('提供', 0.007301587301587302), ('推動', 0.007301587301587302), ('需要', 0.006349206349206349), ('協助', 0.006349206349206349), ('民眾', 0.006031746031746032), ('三月', 0.006031746031746032), ('方向', 0.005714285714285714), ('空間', 0.005714285714285714), ('品質', 0.005714285714285714), ('邀請', 0.005714285714285714)]\n",
      "\n",
      "------------------------------\n",
      "\n",
      " Coherence Score:  0.4196832825822985\n"
     ]
    }
   ],
   "source": [
    "mallet_path = \"C://mallet/bin/mallet\"\n",
    "ldamal = models.wrappers.LdaMallet(mallet_path, corpus=corpus, id2word=dict, num_topics=10)\n",
    "output = open(\"KCC Data/NewsCisTest-KccDict2020-MalletNum10.txt\", 'w', encoding='utf-8-sig')\n",
    "\n",
    "#print(ldamal.show_topics(formatted=False))\n",
    "# 列出最重要的前若干个主题\n",
    "lsTM = ldamal.show_topics(num_topics=10, num_words=20, log=False, formatted=False)\n",
    "for tupleTM in lsTM:\n",
    "        str1 = \"\".join(str(x) for x in tupleTM)\n",
    "        #print(\"type(str1) = \", type(str1))\n",
    "        str1 += \"\\n\"\n",
    "        print(\"strTM = \", str1)\n",
    "        output.write(str1)\n",
    "output.close()\n",
    " \n",
    "#  print(\"------------------------------\")\n",
    "#  print(\"Perplexity = \", ldamal.log_perplexity(corpus))\n",
    "\n",
    "print(\"------------------------------\")\n",
    "cm = models.CoherenceModel(model=ldamal, texts=list(fList), dictionary= dict, coherence= 'c_v')\n",
    "coher_lda = cm.get_coherence()\n",
    "print(\"\\n Coherence Score: \", coher_lda)\n"
   ]
  },
  {
   "cell_type": "markdown",
   "metadata": {},
   "source": [
    "### Finding the optimal number of topics"
   ]
  },
  {
   "cell_type": "code",
   "execution_count": 6,
   "metadata": {},
   "outputs": [],
   "source": [
    "def compute_coherence_values(dictionary, corpus, texts, limit, start, step):\n",
    "    \"\"\"\n",
    "    Compute c_v coherence for various number of topics\n",
    "\n",
    "    Parameters:\n",
    "    ----------\n",
    "    dictionary : Gensim dictionary\n",
    "    corpus : Gensim corpus\n",
    "    texts : List of input texts\n",
    "    limit : Max num of topics\n",
    "\n",
    "    Returns:\n",
    "    -------\n",
    "    model_list : List of LDA topic models\n",
    "    coherence_values : Coherence values corresponding to the LDA model with respective number of topics\n",
    "    \"\"\"\n",
    "    # global mallet_path, dict\n",
    "    coherence_values = []\n",
    "    model_list = []\n",
    "    for num_topics in range(start, limit, step):\n",
    "        model = models.wrappers.LdaMallet(mallet_path, corpus=corpus, num_topics=num_topics, id2word=dict)\n",
    "        model_list.append(model)\n",
    "        coherencemodel = CoherenceModel(model=model, texts=texts, dictionary=dictionary, coherence='c_v')\n",
    "        coherence_values.append(coherencemodel.get_coherence())\n",
    "        coher = coherencemodel.get_coherence()\n",
    "        print(\"Num_topics: \", num_topics, \" Coherence Score= \", coher)\n",
    "    return model_list, coherence_values"
   ]
  },
  {
   "cell_type": "code",
   "execution_count": 7,
   "metadata": {
    "scrolled": true
   },
   "outputs": [
    {
     "name": "stdout",
     "output_type": "stream",
     "text": [
      "Num_topics:  5  Coherence Score=  0.46110897209775725\n",
      "Num_topics:  10  Coherence Score=  0.4445335230837128\n",
      "Num_topics:  15  Coherence Score=  0.43717124931898815\n",
      "Num_topics:  20  Coherence Score=  0.4325257979547145\n",
      "Num_topics:  25  Coherence Score=  0.4305361339319545\n",
      "Num_topics:  30  Coherence Score=  0.4414587399337322\n",
      "Num_topics:  35  Coherence Score=  0.45434665953989345\n",
      "Num_topics:  40  Coherence Score=  0.46186419824575287\n",
      "Num_topics:  45  Coherence Score=  0.4679034593567891\n"
     ]
    }
   ],
   "source": [
    "model_list, coherence_values = compute_coherence_values(dictionary=dict, corpus=corpus, texts=list(fList), limit=50, start=5, step=5)"
   ]
  },
  {
   "cell_type": "code",
   "execution_count": 8,
   "metadata": {},
   "outputs": [
    {
     "data": {
      "image/png": "[encoded data removed]",
      "text/plain": [
       "<Figure size 432x288 with 1 Axes>"
      ]
     },
     "metadata": {
      "needs_background": "light"
     },
     "output_type": "display_data"
    }
   ],
   "source": [
    "# Show graph\n",
    "import matplotlib.pyplot as plt\n",
    "\n",
    "limit=50; start=5; step=5;\n",
    "x = range(start, limit, step)\n",
    "plt.plot(x, coherence_values)\n",
    "plt.xlabel(\"Num Topics\")\n",
    "plt.ylabel(\"Coherence score\")\n",
    "plt.legend((\"coherence_values\"), loc='best')\n",
    "plt.show()"
   ]
  },
  {
   "cell_type": "code",
   "execution_count": 9,
   "metadata": {},
   "outputs": [
    {
     "name": "stdout",
     "output_type": "stream",
     "text": [
      "Num Topics = 5  has Coherence Value of 0.4611\n",
      "Num Topics = 10  has Coherence Value of 0.4445\n",
      "Num Topics = 15  has Coherence Value of 0.4372\n",
      "Num Topics = 20  has Coherence Value of 0.4325\n",
      "Num Topics = 25  has Coherence Value of 0.4305\n",
      "Num Topics = 30  has Coherence Value of 0.4415\n",
      "Num Topics = 35  has Coherence Value of 0.4543\n",
      "Num Topics = 40  has Coherence Value of 0.4619\n",
      "Num Topics = 45  has Coherence Value of 0.4679\n",
      "Optimal Topic Num = 45  Highest Value = 0.4679034593567891\n"
     ]
    }
   ],
   "source": [
    "# Print the coherence scores\n",
    "optNum = 0\n",
    "maxCV = 0\n",
    "for m, cv in zip(x, coherence_values):\n",
    "    # maxCV = lambda cv, maxCV: cv if cv > maxCV else maxCV\n",
    "    if cv > maxCV:\n",
    "        optNum = m\n",
    "        maxCV = cv \n",
    "    print(\"Num Topics =\", m, \" has Coherence Value of\", round(cv, 4))\n",
    "print(\"Optimal Topic Num =\", optNum, \" Highest Value =\", maxCV)"
   ]
  },
  {
   "cell_type": "markdown",
   "metadata": {},
   "source": [
    "###  Select the model and print the topics"
   ]
  },
  {
   "cell_type": "code",
   "execution_count": 10,
   "metadata": {},
   "outputs": [
    {
     "name": "stdout",
     "output_type": "stream",
     "text": [
      "[(11,\n",
      "  '0.034*\"體驗\" + 0.033*\"教育\" + 0.023*\"學校\" + 0.018*\"單位\" + 0.016*\"展示\" + 0.016*\"參與\" '\n",
      "  '+ 0.015*\"安排\" + 0.014*\"特色\" + 0.013*\"技職\" + 0.012*\"項目\" + 0.012*\"運動\" + '\n",
      "  '0.012*\"選手\" + 0.012*\"大學\" + 0.011*\"活動\" + 0.011*\"展現\" + 0.010*\"成果\" + '\n",
      "  '0.010*\"高市府\" + 0.009*\"校長\" + 0.009*\"老師\" + 0.008*\"主辦\"'),\n",
      " (28,\n",
      "  '0.063*\"市府\" + 0.037*\"指出\" + 0.025*\"提出\" + 0.022*\"水利局\" + 0.017*\"資料\" + '\n",
      "  '0.016*\"污水\" + 0.016*\"方式\" + 0.016*\"使用費\" + 0.015*\"影響\" + 0.015*\"情形\" + '\n",
      "  '0.014*\"基金\" + 0.014*\"辦法\" + 0.013*\"去年\" + 0.013*\"退費\" + 0.013*\"軌道\" + 0.013*\"徵收\" '\n",
      "  '+ 0.012*\"自治條例\" + 0.012*\"目前\" + 0.012*\"訂定\" + 0.012*\"誤收\"'),\n",
      " (18,\n",
      "  '0.050*\"高雄市\" + 0.041*\"高雄\" + 0.034*\"城市\" + 0.033*\"陳菊\" + 0.032*\"文化\" + '\n",
      "  '0.031*\"交流\" + 0.027*\"日本\" + 0.023*\"市長\" + 0.019*\"長野縣\" + 0.018*\"昨天\" + '\n",
      "  '0.017*\"團隊\" + 0.015*\"邀請\" + 0.013*\"歷史\" + 0.013*\"教育\" + 0.012*\"特別\" + 0.012*\"觀光\" '\n",
      "  '+ 0.012*\"拜會\" + 0.011*\"值得\" + 0.010*\"互動\" + 0.010*\"建築\"'),\n",
      " (17,\n",
      "  '0.030*\"吳宏謀\" + 0.026*\"主委\" + 0.020*\"能力\" + 0.017*\"行政院\" + 0.016*\"高雄市政府環境保護局\" + '\n",
      "  '0.016*\"出任\" + 0.015*\"高雄市政府\" + 0.014*\"動物\" + 0.013*\"犬隻\" + 0.013*\"副市長\" + '\n",
      "  '0.012*\"中華民國勞動部\" + 0.012*\"台南\" + 0.012*\"費用\" + 0.012*\"收容所\" + 0.012*\"事件\" + '\n",
      "  '0.010*\"支出\" + 0.009*\"完整\" + 0.009*\"澄清\" + 0.009*\"日月光\" + 0.009*\"擔任\"'),\n",
      " (29,\n",
      "  '0.035*\"參加\" + 0.035*\"高雄\" + 0.023*\"舉辦\" + 0.017*\"第一\" + 0.015*\"農業\" + 0.013*\"報名\" '\n",
      "  '+ 0.013*\"四月\" + 0.011*\"比賽\" + 0.011*\"緬甸\" + 0.010*\"課程\" + 0.010*\"文化\" + '\n",
      "  '0.010*\"五日\" + 0.010*\"培訓\" + 0.010*\"兒童\" + 0.009*\"才藝\" + 0.009*\"社團\" + '\n",
      "  '0.009*\"馬拉松\" + 0.008*\"競賽\" + 0.008*\"大賽\" + 0.008*\"參賽\"'),\n",
      " (15,\n",
      "  '0.067*\"遷村\" + 0.033*\"經費\" + 0.027*\"單位\" + 0.024*\"居民\" + 0.023*\"市府\" + 0.022*\"完成\" '\n",
      "  '+ 0.021*\"大林蒲\" + 0.020*\"辦理\" + 0.020*\"污染\" + 0.019*\"評估\" + 0.018*\"相關\" + '\n",
      "  '0.018*\"行政院\" + 0.016*\"計畫\" + 0.015*\"建議\" + 0.015*\"土地\" + 0.014*\"預算\" + '\n",
      "  '0.014*\"方式\" + 0.013*\"高雄市政府\" + 0.012*\"環境\" + 0.012*\"成立\"'),\n",
      " (12,\n",
      "  '0.028*\"過程\" + 0.021*\"指出\" + 0.017*\"銀行\" + 0.015*\"經驗\" + 0.015*\"目前\" + 0.014*\"報導\" '\n",
      "  '+ 0.014*\"考察\" + 0.014*\"鄭新助\" + 0.013*\"案件\" + 0.012*\"辜仲諒\" + 0.010*\"特偵組\" + '\n",
      "  '0.010*\"期待\" + 0.010*\"檢方\" + 0.009*\"台北\" + 0.009*\"臺灣高雄地方地檢署\" + 0.009*\"球隊\" + '\n",
      "  '0.008*\"賴士葆\" + 0.008*\"收據\" + 0.008*\"犯罪\" + 0.008*\"陽信\"'),\n",
      " (4,\n",
      "  '0.032*\"台灣\" + 0.031*\"陳菊\" + 0.025*\"高雄市\" + 0.024*\"美國\" + 0.023*\"更多\" + '\n",
      "  '0.023*\"機會\" + 0.022*\"高雄\" + 0.022*\"昨天\" + 0.022*\"企業\" + 0.019*\"合作\" + '\n",
      "  '0.018*\"梅健華\" + 0.014*\"理事長\" + 0.014*\"處長\" + 0.014*\"在地\" + 0.013*\"最佳\" + '\n",
      "  '0.011*\"公司\" + 0.011*\"台灣國際造船股份有限公司\" + 0.011*\"董事長\" + 0.011*\"協會\" + 0.011*\"小港\"'),\n",
      " (13,\n",
      "  '0.027*\"民眾\" + 0.026*\"工作\" + 0.025*\"登革熱\" + 0.019*\"防治\" + 0.018*\"高雄市政府\" + '\n",
      "  '0.018*\"呼籲\" + 0.017*\"防疫\" + 0.017*\"市府\" + 0.015*\"環境\" + 0.015*\"簡煥宗\" + '\n",
      "  '0.014*\"疫情\" + 0.014*\"措施\" + 0.011*\"成立\" + 0.010*\"整合\" + 0.010*\"衛生\" + 0.010*\"個案\" '\n",
      "  '+ 0.010*\"辦公室\" + 0.009*\"情況\" + 0.009*\"衛生局\" + 0.009*\"學生\"'),\n",
      " (21,\n",
      "  '0.023*\"辦理\" + 0.022*\"高雄市\" + 0.016*\"質疑\" + 0.014*\"操作\" + 0.013*\"需求\" + '\n",
      "  '0.012*\"現任\" + 0.012*\"參選\" + 0.012*\"保障\" + 0.012*\"市府\" + 0.012*\"選舉\" + 0.010*\"權益\" '\n",
      "  '+ 0.010*\"tw\" + 0.010*\"註記\" + 0.010*\"故鄉稅\" + 0.010*\"確實\" + 0.010*\"一卡通\" + '\n",
      "  '0.010*\"特別\" + 0.010*\"同性\" + 0.009*\"系統\" + 0.009*\"推出\"'),\n",
      " (6,\n",
      "  '0.073*\"活動\" + 0.028*\"民眾\" + 0.026*\"提供\" + 0.015*\"觀光局\" + 0.014*\"包括\" + '\n",
      "  '0.014*\"公益\" + 0.013*\"特別\" + 0.012*\"藉由\" + 0.012*\"觀光\" + 0.012*\"昨日\" + 0.010*\"推動\" '\n",
      "  '+ 0.010*\"時間\" + 0.010*\"海洋\" + 0.009*\"上午\" + 0.009*\"參與\" + 0.009*\"現場\" + '\n",
      "  '0.008*\"登場\" + 0.008*\"主題\" + 0.008*\"推廣\" + 0.008*\"大型\"'),\n",
      " (20,\n",
      "  '0.027*\"世界\" + 0.022*\"國際\" + 0.022*\"團體\" + 0.017*\"動物\" + 0.017*\"加入\" + 0.016*\"活動\" '\n",
      "  '+ 0.015*\"一同\" + 0.013*\"節水\" + 0.013*\"台灣\" + 0.013*\"期間\" + 0.013*\"行善\" + '\n",
      "  '0.013*\"壽山動物園\" + 0.012*\"昨天\" + 0.012*\"生活\" + 0.012*\"管理\" + 0.012*\"動物園\" + '\n",
      "  '0.012*\"正式\" + 0.011*\"行善日\" + 0.011*\"響應\" + 0.010*\"經濟部\"'),\n",
      " (8,\n",
      "  '0.080*\"台灣\" + 0.054*\"民主進步黨\" + 0.041*\"支持\" + 0.021*\"日前\" + 0.021*\"第一\" + '\n",
      "  '0.020*\"透過\" + 0.019*\"擔任\" + 0.019*\"國家\" + 0.017*\"出席\" + 0.014*\"蔡英文\" + '\n",
      "  '0.014*\"肯定\" + 0.013*\"決議\" + 0.012*\"中國國民黨\" + 0.010*\"業務\" + 0.010*\"前往\" + '\n",
      "  '0.009*\"副總統\" + 0.009*\"身體\" + 0.009*\"委員\" + 0.009*\"率領\" + 0.008*\"執政\"'),\n",
      " (0,\n",
      "  '0.044*\"社區\" + 0.023*\"地方\" + 0.020*\"四月\" + 0.018*\"舞台\" + 0.017*\"沈英章\" + '\n",
      "  '0.015*\"昨天\" + 0.015*\"高雄市政府工務局養護工程處\" + 0.015*\"指出\" + 0.014*\"仁武\" + 0.013*\"吸引\" + '\n",
      "  '0.012*\"活動\" + 0.012*\"陳清茂\" + 0.012*\"高雄市議員\" + 0.011*\"會勘\" + 0.010*\"鳳山\" + '\n",
      "  '0.010*\"演出\" + 0.008*\"人潮\" + 0.008*\"下午\" + 0.008*\"進度\" + 0.008*\"國立中山大學\"'),\n",
      " (10,\n",
      "  '0.068*\"高雄市\" + 0.057*\"高雄\" + 0.048*\"中央\" + 0.040*\"政府\" + 0.032*\"地方\" + '\n",
      "  '0.024*\"市府\" + 0.023*\"補助\" + 0.018*\"台北市\" + 0.018*\"財政\" + 0.017*\"公平\" + '\n",
      "  '0.014*\"台北\" + 0.013*\"翻轉\" + 0.012*\"努力\" + 0.012*\"高市府\" + 0.012*\"面對\" + '\n",
      "  '0.011*\"舉債\" + 0.009*\"直轄市\" + 0.008*\"轉型\" + 0.008*\"財政局\" + 0.008*\"落實\"'),\n",
      " (23,\n",
      "  '0.117*\"陳菊\" + 0.068*\"高雄市\" + 0.056*\"立委\" + 0.035*\"昨天\" + 0.031*\"媒體\" + '\n",
      "  '0.030*\"柯文哲\" + 0.029*\"市長\" + 0.026*\"議題\" + 0.024*\"關心\" + 0.022*\"發展\" + '\n",
      "  '0.014*\"期待\" + 0.013*\"溝通\" + 0.012*\"小時\" + 0.012*\"立法院\" + 0.011*\"父親\" + '\n",
      "  '0.010*\"包括\" + 0.010*\"詢問\" + 0.010*\"劉世芳\" + 0.010*\"政府\" + 0.009*\"支持\"'),\n",
      " (22,\n",
      "  '0.029*\"六龜大佛\" + 0.019*\"藝術\" + 0.017*\"醫院\" + 0.014*\"十二\" + 0.014*\"園區\" + '\n",
      "  '0.013*\"施工\" + 0.013*\"公斤\" + 0.012*\"二十\" + 0.012*\"作品\" + 0.012*\"下方\" + 0.010*\"觀光\" '\n",
      "  '+ 0.010*\"高度\" + 0.010*\"大佛\" + 0.009*\"財團法人\" + 0.009*\"前往\" + 0.008*\"莊嚴\" + '\n",
      "  '0.008*\"重達\" + 0.008*\"國寶\" + 0.008*\"接觸\" + 0.008*\"箱涵\"'),\n",
      " (26,\n",
      "  '0.031*\"開發\" + 0.029*\"土地\" + 0.024*\"中心\" + 0.019*\"中國石油\" + 0.019*\"辦理\" + '\n",
      "  '0.019*\"完成\" + 0.017*\"公頃\" + 0.016*\"公告\" + 0.013*\"公司\" + 0.013*\"繼承\" + 0.013*\"利用\" '\n",
      "  '+ 0.013*\"規劃\" + 0.012*\"亞洲新灣區\" + 0.012*\"重劃\" + 0.012*\"溝通\" + 0.012*\"重劃區\" + '\n",
      "  '0.011*\"生產\" + 0.010*\"地政局\" + 0.010*\"土地重劃\" + 0.009*\"石化\"'),\n",
      " (25,\n",
      "  '0.036*\"交通\" + 0.025*\"管制\" + 0.021*\"措施\" + 0.020*\"地區\" + 0.019*\"改善\" + 0.019*\"實施\" '\n",
      "  '+ 0.019*\"遊客\" + 0.018*\"哈瑪星\" + 0.015*\"配合\" + 0.015*\"搭乘\" + 0.015*\"提供\" + '\n",
      "  '0.013*\"交通局\" + 0.013*\"接駁\" + 0.013*\"捷運\" + 0.012*\"期間\" + 0.012*\"鼓山\" + '\n",
      "  '0.012*\"優惠\" + 0.011*\"遊覽車\" + 0.011*\"機車\" + 0.010*\"規劃\"'),\n",
      " (16,\n",
      "  '0.059*\"服務\" + 0.042*\"民眾\" + 0.028*\"公車\" + 0.023*\"免費\" + 0.017*\"品質\" + 0.017*\"機車\" '\n",
      "  '+ 0.013*\"調整\" + 0.012*\"公共\" + 0.011*\"經營\" + 0.010*\"人行道\" + 0.010*\"路線\" + '\n",
      "  '0.010*\"中心\" + 0.009*\"維護\" + 0.008*\"停車格\" + 0.008*\"公告\" + 0.008*\"腳踏車\" + '\n",
      "  '0.008*\"車輛\" + 0.008*\"提升\" + 0.008*\"陳政聞\" + 0.007*\"狀況\"')]\n"
     ]
    }
   ],
   "source": [
    "from pprint import pprint\n",
    "\n",
    "optimal_model = model_list[5]\n",
    "# model_topics = optimal_model.show_topics(formatted=False)\n",
    "pprint(optimal_model.print_topics(num_words=20))"
   ]
  },
  {
   "cell_type": "code",
   "execution_count": null,
   "metadata": {},
   "outputs": [],
   "source": []
  }
 ],
 "metadata": {
  "kernelspec": {
   "display_name": "Python 3",
   "language": "python",
   "name": "python3"
  },
  "language_info": {
   "codemirror_mode": {
    "name": "ipython",
    "version": 3
   },
   "file_extension": ".py",
   "mimetype": "text/x-python",
   "name": "python",
   "nbconvert_exporter": "python",
   "pygments_lexer": "ipython3",
   "version": "3.8.8"
  }
 },
 "nbformat": 4,
 "nbformat_minor": 2
}
