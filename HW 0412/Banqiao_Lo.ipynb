{
 "cells": [
  {
   "cell_type": "code",
   "execution_count": 8,
   "metadata": {},
   "outputs": [
    {
     "data": {
      "text/plain": [
       "array(['吳思瑤', '姚文智', '何志偉', '蔣萬安', '李彥秀', '林昶佐', '蔣乃辛', '費鴻泰', '賴士葆',\n",
       "       '呂 孫 綾', '林 淑 芬', '高志鵬', '余天', '吳 秉 叡', '蘇 巧 慧', '張 宏 陸', '羅 致 政',\n",
       "       '江 永 昌', '林 德 福', '吳 琪 銘', '羅 明 才', '黃 國 昌', '蔡適應', '鄭 運 鵬',\n",
       "       '陳賴素美', '陳學聖', '鄭寶清', '呂玉玲', '趙正宇', '林為洲', '柯建銘', '陳超明', '徐志榮',\n",
       "       '蔡其昌', '顏寬恒', '洪慈庸', '張廖萬堅', '盧秀燕', '沈智慧', '黃國書', '何欣純', '江啟臣',\n",
       "       '王惠美', '柯呈枋', '黃秀芳', '洪宗熠', '陳素月', '馬 文 君', '許 淑 華', '蘇 治 芬',\n",
       "       '劉 建 國', '李 俊 俋', '蔡 易 餘', '陳 明 文', '葉宜津', '黃偉哲', '郭國文  ', '陳亭妃',\n",
       "       '林俊憲', '王定宇', '邱 議 瑩', '邱 志 偉', '劉 世 芳', '林 岱 樺', '管 碧 玲', '李 昆 澤',\n",
       "       '趙 天 麟', '馬 凱 妮', '賴 瑞 隆', '蘇震清', '鍾佳濱', '莊瑞雄', '陳歐珀', '蕭美琴',\n",
       "       '劉櫂豪', '楊 曜', '楊鎮浯', '陳玉珍', '陳雪生', '廖國棟', '鄭天財', '陳瑩', '高金素梅',\n",
       "       '簡東明', '孔文吉', nan], dtype=object)"
      ]
     },
     "execution_count": 8,
     "metadata": {},
     "output_type": "execute_result"
    }
   ],
   "source": [
    "import pandas as pd\n",
    "import jieba\n",
    "from tqdm import tqdm\n",
    "import matplotlib.pyplot as plt\n",
    "import numpy as np\n",
    "from collections import Counter\n",
    "\n",
    "pd.set_option('display.max_colwidth', None)#setting the maximize string show\n",
    "\n",
    "fb = pd.read_csv('nysu_10902_2019_research_right.csv')\n",
    "politics = pd.read_csv('9th_legislator_promise.csv')\n",
    "fb.page_name.unique() #觀察人名在資料集中叫什麼名字\n",
    "politics.姓名.unique()"
   ]
  },
  {
   "cell_type": "code",
   "execution_count": 9,
   "metadata": {},
   "outputs": [
    {
     "data": {
      "text/html": [
       "<div>\n",
       "<style scoped>\n",
       "    .dataframe tbody tr th:only-of-type {\n",
       "        vertical-align: middle;\n",
       "    }\n",
       "\n",
       "    .dataframe tbody tr th {\n",
       "        vertical-align: top;\n",
       "    }\n",
       "\n",
       "    .dataframe thead th {\n",
       "        text-align: right;\n",
       "    }\n",
       "</style>\n",
       "<table border=\"1\" class=\"dataframe\">\n",
       "  <thead>\n",
       "    <tr style=\"text-align: right;\">\n",
       "      <th></th>\n",
       "      <th>post_id</th>\n",
       "      <th>page_id</th>\n",
       "      <th>page_name</th>\n",
       "      <th>page_category</th>\n",
       "      <th>message</th>\n",
       "      <th>story</th>\n",
       "      <th>type</th>\n",
       "      <th>permalink</th>\n",
       "      <th>created_time_gmt</th>\n",
       "      <th>created_time_taipei</th>\n",
       "      <th>...</th>\n",
       "      <th>link_name</th>\n",
       "      <th>link_description</th>\n",
       "      <th>like_count</th>\n",
       "      <th>haha_count</th>\n",
       "      <th>love_count</th>\n",
       "      <th>angry_count</th>\n",
       "      <th>sad_count</th>\n",
       "      <th>wow_count</th>\n",
       "      <th>comment_count</th>\n",
       "      <th>share_count</th>\n",
       "    </tr>\n",
       "  </thead>\n",
       "  <tbody>\n",
       "    <tr>\n",
       "      <th>23477</th>\n",
       "      <td>182836328407031_2219870311370279</td>\n",
       "      <td>182836328407031</td>\n",
       "      <td>羅致政粉絲團</td>\n",
       "      <td>政治人物</td>\n",
       "      <td>違法兼職，事證明確，卡不卡管，台大自斷</td>\n",
       "      <td>NaN</td>\n",
       "      <td>link</td>\n",
       "      <td>https://www.facebook.com/182836328407031/posts/2219870311370279/</td>\n",
       "      <td>2019-01-15T06:40:53+0000</td>\n",
       "      <td>2019-01-15T14:40:53</td>\n",
       "      <td>...</td>\n",
       "      <td>管中閔違法兼職　監察院7：4通過彈劾 | 蘋果日報</td>\n",
       "      <td>台大校長管中閔已在上周上任，不過，對於他過去擔任學校主管及政府部門任職時在外兼職違法事宜，監察院今天召開管中閔兼職的彈劾審查，結果以7：4通...</td>\n",
       "      <td>1029</td>\n",
       "      <td>0</td>\n",
       "      <td>0</td>\n",
       "      <td>0</td>\n",
       "      <td>0</td>\n",
       "      <td>0</td>\n",
       "      <td>42</td>\n",
       "      <td>29</td>\n",
       "    </tr>\n",
       "  </tbody>\n",
       "</table>\n",
       "<p>1 rows × 21 columns</p>\n",
       "</div>"
      ],
      "text/plain": [
       "                                post_id          page_id page_name  \\\n",
       "23477  182836328407031_2219870311370279  182836328407031    羅致政粉絲團   \n",
       "\n",
       "      page_category              message story  type  \\\n",
       "23477          政治人物  違法兼職，事證明確，卡不卡管，台大自斷   NaN  link   \n",
       "\n",
       "                                                              permalink  \\\n",
       "23477  https://www.facebook.com/182836328407031/posts/2219870311370279/   \n",
       "\n",
       "               created_time_gmt  created_time_taipei  ...  \\\n",
       "23477  2019-01-15T06:40:53+0000  2019-01-15T14:40:53  ...   \n",
       "\n",
       "                       link_name  \\\n",
       "23477  管中閔違法兼職　監察院7：4通過彈劾 | 蘋果日報   \n",
       "\n",
       "                                                                link_description  \\\n",
       "23477  台大校長管中閔已在上周上任，不過，對於他過去擔任學校主管及政府部門任職時在外兼職違法事宜，監察院今天召開管中閔兼職的彈劾審查，結果以7：4通...   \n",
       "\n",
       "      like_count  haha_count  love_count  angry_count  sad_count  wow_count  \\\n",
       "23477       1029           0           0            0          0          0   \n",
       "\n",
       "       comment_count  share_count  \n",
       "23477             42           29  \n",
       "\n",
       "[1 rows x 21 columns]"
      ]
     },
     "execution_count": 9,
     "metadata": {},
     "output_type": "execute_result"
    }
   ],
   "source": [
    "lo = fb[fb.page_name == \"羅致政粉絲團\"]\n",
    "lo.head(1)"
   ]
  },
  {
   "cell_type": "code",
   "execution_count": 10,
   "metadata": {},
   "outputs": [
    {
     "name": "stderr",
     "output_type": "stream",
     "text": [
      "<ipython-input-10-067a578daaf3>:1: SettingWithCopyWarning: \n",
      "A value is trying to be set on a copy of a slice from a DataFrame.\n",
      "Try using .loc[row_indexer,col_indexer] = value instead\n",
      "\n",
      "See the caveats in the documentation: https://pandas.pydata.org/pandas-docs/stable/user_guide/indexing.html#returning-a-view-versus-a-copy\n",
      "  lo['new_date'] = pd.to_datetime(lo['created_time_taipei']).dt.date\n",
      "<ipython-input-10-067a578daaf3>:2: SettingWithCopyWarning: \n",
      "A value is trying to be set on a copy of a slice from a DataFrame.\n",
      "Try using .loc[row_indexer,col_indexer] = value instead\n",
      "\n",
      "See the caveats in the documentation: https://pandas.pydata.org/pandas-docs/stable/user_guide/indexing.html#returning-a-view-versus-a-copy\n",
      "  lo['month_year'] = pd.to_datetime(lo['new_date']).dt.to_period('M')\n"
     ]
    },
    {
     "data": {
      "text/html": [
       "<div>\n",
       "<style scoped>\n",
       "    .dataframe tbody tr th:only-of-type {\n",
       "        vertical-align: middle;\n",
       "    }\n",
       "\n",
       "    .dataframe tbody tr th {\n",
       "        vertical-align: top;\n",
       "    }\n",
       "\n",
       "    .dataframe thead th {\n",
       "        text-align: right;\n",
       "    }\n",
       "</style>\n",
       "<table border=\"1\" class=\"dataframe\">\n",
       "  <thead>\n",
       "    <tr style=\"text-align: right;\">\n",
       "      <th></th>\n",
       "      <th>post_id</th>\n",
       "      <th>page_id</th>\n",
       "      <th>page_name</th>\n",
       "      <th>page_category</th>\n",
       "      <th>message</th>\n",
       "      <th>story</th>\n",
       "      <th>type</th>\n",
       "      <th>permalink</th>\n",
       "      <th>created_time_gmt</th>\n",
       "      <th>created_time_taipei</th>\n",
       "      <th>...</th>\n",
       "      <th>like_count</th>\n",
       "      <th>haha_count</th>\n",
       "      <th>love_count</th>\n",
       "      <th>angry_count</th>\n",
       "      <th>sad_count</th>\n",
       "      <th>wow_count</th>\n",
       "      <th>comment_count</th>\n",
       "      <th>share_count</th>\n",
       "      <th>new_date</th>\n",
       "      <th>month_year</th>\n",
       "    </tr>\n",
       "  </thead>\n",
       "  <tbody>\n",
       "    <tr>\n",
       "      <th>23477</th>\n",
       "      <td>182836328407031_2219870311370279</td>\n",
       "      <td>182836328407031</td>\n",
       "      <td>羅致政粉絲團</td>\n",
       "      <td>政治人物</td>\n",
       "      <td>違法兼職，事證明確，卡不卡管，台大自斷</td>\n",
       "      <td>NaN</td>\n",
       "      <td>link</td>\n",
       "      <td>https://www.facebook.com/182836328407031/posts/2219870311370279/</td>\n",
       "      <td>2019-01-15T06:40:53+0000</td>\n",
       "      <td>2019-01-15T14:40:53</td>\n",
       "      <td>...</td>\n",
       "      <td>1029</td>\n",
       "      <td>0</td>\n",
       "      <td>0</td>\n",
       "      <td>0</td>\n",
       "      <td>0</td>\n",
       "      <td>0</td>\n",
       "      <td>42</td>\n",
       "      <td>29</td>\n",
       "      <td>2019-01-15</td>\n",
       "      <td>2019-01</td>\n",
       "    </tr>\n",
       "  </tbody>\n",
       "</table>\n",
       "<p>1 rows × 23 columns</p>\n",
       "</div>"
      ],
      "text/plain": [
       "                                post_id          page_id page_name  \\\n",
       "23477  182836328407031_2219870311370279  182836328407031    羅致政粉絲團   \n",
       "\n",
       "      page_category              message story  type  \\\n",
       "23477          政治人物  違法兼職，事證明確，卡不卡管，台大自斷   NaN  link   \n",
       "\n",
       "                                                              permalink  \\\n",
       "23477  https://www.facebook.com/182836328407031/posts/2219870311370279/   \n",
       "\n",
       "               created_time_gmt  created_time_taipei  ... like_count  \\\n",
       "23477  2019-01-15T06:40:53+0000  2019-01-15T14:40:53  ...       1029   \n",
       "\n",
       "      haha_count love_count  angry_count  sad_count  wow_count  comment_count  \\\n",
       "23477          0          0            0          0          0             42   \n",
       "\n",
       "       share_count    new_date  month_year  \n",
       "23477           29  2019-01-15     2019-01  \n",
       "\n",
       "[1 rows x 23 columns]"
      ]
     },
     "execution_count": 10,
     "metadata": {},
     "output_type": "execute_result"
    }
   ],
   "source": [
    "lo['new_date'] = pd.to_datetime(lo['created_time_taipei']).dt.date\n",
    "lo['month_year'] = pd.to_datetime(lo['new_date']).dt.to_period('M')\n",
    "lo.head(1)"
   ]
  },
  {
   "cell_type": "code",
   "execution_count": 11,
   "metadata": {},
   "outputs": [],
   "source": [
    "# 依照按讚數 低到高排序\n",
    "lo = lo.sort_values(by=['like_count'])\n",
    "# 用新的排序當作順序\n",
    "lo.reset_index(inplace=True)"
   ]
  },
  {
   "cell_type": "markdown",
   "metadata": {},
   "source": [
    "結巴斷詞 jieba\n",
    "\n",
    "len(lo): 看羅致政的貼文總共有幾筆\n",
    "list(lo['message']): 把要斷詞的內容轉成 list 格式\n",
    "創造一個新的dataframe叫做lo_docs，型態是pandas.core.frame.DataFrame\n",
    "原本liu_docs裡面的'jieba_results'欄位型態是pandas.core.series.Series，需要轉成'str'(字串)型態才能做後續處理。"
   ]
  },
  {
   "cell_type": "code",
   "execution_count": 12,
   "metadata": {},
   "outputs": [
    {
     "data": {
      "text/plain": [
       "range(0, 871)"
      ]
     },
     "execution_count": 12,
     "metadata": {},
     "output_type": "execute_result"
    }
   ],
   "source": [
    "doc_names = range(len(lo)) #有幾篇文章 : 444 篇文章\n",
    "doc_names"
   ]
  },
  {
   "cell_type": "code",
   "execution_count": 13,
   "metadata": {},
   "outputs": [],
   "source": [
    "lo = lo.replace(np.nan, '', regex=True) # 將nan取代成空白字串\n",
    "text_list = list(lo['message']) # 把所有message轉成一個list 用for iterate"
   ]
  },
  {
   "cell_type": "code",
   "execution_count": 17,
   "metadata": {},
   "outputs": [
    {
     "name": "stdout",
     "output_type": "stream",
     "text": [
      "['每年', '端午', '節', '，', '都', '會', '被', '問到', '「', '北部', '粽', '和', '南部', '粽', '你', '喜歡', '吃', '哪個', '？', '」', '最近', '連冰', '粽和住', '海邊', '的', 'XX', '粽', '（', '愛惜', '生命', '，', '大家', '知道', '就', '好', '）', '也', '參戰', '！', '\\r\\n', '\\r\\n', '#', '我小時候', '最常', '吃鹼', '粽', '沾', '砂糖', '\\r\\n', '\\r\\n', '你們', '最想', '吃', '哪個', '？', '請', '留言', '告訴', '我', '！']\n"
     ]
    }
   ],
   "source": [
    "# 先看第一個\n",
    "words = jieba.lcut(text_list[1], cut_all = False) # lcut return a \"list\"\n",
    "print(words)"
   ]
  },
  {
   "cell_type": "code",
   "execution_count": null,
   "metadata": {},
   "outputs": [],
   "source": []
  },
  {
   "cell_type": "code",
   "execution_count": null,
   "metadata": {},
   "outputs": [],
   "source": []
  }
 ],
 "metadata": {
  "kernelspec": {
   "display_name": "Python 3",
   "language": "python",
   "name": "python3"
  },
  "language_info": {
   "codemirror_mode": {
    "name": "ipython",
    "version": 3
   },
   "file_extension": ".py",
   "mimetype": "text/x-python",
   "name": "python",
   "nbconvert_exporter": "python",
   "pygments_lexer": "ipython3",
   "version": "3.8.5"
  }
 },
 "nbformat": 4,
 "nbformat_minor": 4
}
